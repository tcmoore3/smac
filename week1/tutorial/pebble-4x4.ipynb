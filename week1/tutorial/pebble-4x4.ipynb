{
 "cells": [
  {
   "cell_type": "code",
   "execution_count": 1,
   "metadata": {
    "collapsed": false
   },
   "outputs": [],
   "source": [
    "%matplotlib inline\n",
    "\n",
    "import numpy as np\n",
    "\n",
    "import matplotlib.pyplot as plt\n",
    "\n",
    "# list of neighbors for each square\n",
    "neighbors =  [[1, 4, 0, 0], [2, 5, 0, 1], [3, 6, 1, 2], [3, 7, 2, 3],\n",
    "             [5, 8, 4, 0], [6, 9, 4, 1], [7, 10, 5, 2], [7, 11, 6, 3],\n",
    "             [9, 12, 8, 4], [10, 13, 8, 5], [11, 14, 9, 6], [11, 15, 10, 7],\n",
    "             [13, 12, 12, 8], [14, 13, 12, 9], [15, 14, 13, 10], [15, 15, 14, 11]]\n",
    "\n",
    "# initialize transfer matrix to zeroes\n",
    "n = 4\n",
    "transfer_matrix = np.zeros((n*n, n*n))\n",
    "\n",
    "# now fill in transfer matrix with transfer probabilities\n",
    "for i in range(n*n):\n",
    "    for neighbor in range(4):\n",
    "        transfer_matrix[neighbors[i][neighbor], i] += 0.25\n",
    "\n",
    "# make sure transfer matrix is (at least somewhat) correct\n",
    "for row in transfer_matrix:\n",
    "    assert(np.sum(row)) == 1.0 "
   ]
  },
  {
   "cell_type": "markdown",
   "metadata": {},
   "source": [
    "Now find the equilibrium probability vector, which is the eigenvector of the transfer matrix with eigenvalue 1.\n",
    "\n",
    "Use `np.where` to find where the eigenvalue is (very close to) 1, and then the eigenvector associated with that eigenvalue is just `eigenvectors[:, eigenvalue_1]`"
   ]
  },
  {
   "cell_type": "code",
   "execution_count": 2,
   "metadata": {
    "collapsed": false
   },
   "outputs": [
    {
     "name": "stdout",
     "output_type": "stream",
     "text": [
      "[ 0.25  0.25  0.25  0.25  0.25  0.25  0.25  0.25  0.25  0.25  0.25  0.25\n",
      "  0.25  0.25  0.25  0.25]\n"
     ]
    }
   ],
   "source": [
    "# find equilibrium probability vector\n",
    "# this is the eigenvector associated with eigenvalue 1\n",
    "eigenvalues, eigenvectors = np.linalg.eig(transfer_matrix)\n",
    "eigenvalue_1 = np.where(np.abs(np.abs(eigenvalues) - 1.0) < 1e-8)[0][0]\n",
    "print np.abs(eigenvectors[:, eigenvalue_1])"
   ]
  },
  {
   "cell_type": "markdown",
   "metadata": {},
   "source": [
    "So I have 2 questions:\n",
    "1. Why are there nonzero imaginary parts of the eigenvectors and eigenvalues?\n",
    "1. Why is the eigenvector associated with eigenvalue 1 all 0.25, when it should clearly be 1/16?\n",
    "\n",
    "Clearly, the behavior in time is correct, as shown by the plot below."
   ]
  },
  {
   "cell_type": "code",
   "execution_count": 10,
   "metadata": {
    "collapsed": false
   },
   "outputs": [
    {
     "data": {
      "image/png": "[encoded data removed]",
      "text/plain": [
       "<matplotlib.figure.Figure at 0x10d1b1410>"
      ]
     },
     "metadata": {},
     "output_type": "display_data"
    }
   ],
   "source": [
    "# empty list for positions through time\n",
    "positions_t = []\n",
    "\n",
    "# positions at time 0 (start at top right square)\n",
    "position = np.zeros(n*n)\n",
    "position[-1] = 1\n",
    "\n",
    "# now loop through time and find the probability vector at time t\n",
    "for step in range(100):\n",
    "    # print position\n",
    "    positions_t.append(position)\n",
    "    position = np.dot(transfer_matrix, position)\n",
    "positions_t = np.asarray(positions_t)\n",
    "fig, ax = plt.subplots()\n",
    "ax.axhline(1.0/16)\n",
    "ax.set_xlabel('t')\n",
    "ax.set_ylabel('$\\pi_i^t$', size='xx-large')\n",
    "for p_square_t in positions_t.T:\n",
    "    ax.plot(p_square_t[:31])\n",
    "fig.savefig('figures/pebble_4x4.pdf')"
   ]
  },
  {
   "cell_type": "code",
   "execution_count": null,
   "metadata": {
    "collapsed": true
   },
   "outputs": [],
   "source": []
  }
 ],
 "metadata": {
  "kernelspec": {
   "display_name": "Python 2",
   "language": "python",
   "name": "python2"
  },
  "language_info": {
   "codemirror_mode": {
    "name": "ipython",
    "version": 2
   },
   "file_extension": ".py",
   "mimetype": "text/x-python",
   "name": "python",
   "nbconvert_exporter": "python",
   "pygments_lexer": "ipython2",
   "version": "2.7.11"
  }
 },
 "nbformat": 4,
 "nbformat_minor": 0
}
