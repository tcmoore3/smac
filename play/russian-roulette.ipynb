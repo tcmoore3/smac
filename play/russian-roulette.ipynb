{
 "cells": [
  {
   "cell_type": "code",
   "execution_count": 85,
   "metadata": {
    "collapsed": true
   },
   "outputs": [],
   "source": [
    "import random\n",
    "import numpy as np"
   ]
  },
  {
   "cell_type": "code",
   "execution_count": 148,
   "metadata": {
    "collapsed": false
   },
   "outputs": [
    {
     "name": "stdout",
     "output_type": "stream",
     "text": [
      "3.48806\n",
      "2.9099574364\n",
      "2.9099574364\n"
     ]
    }
   ],
   "source": [
    "def insert_bullet(n_chambers):\n",
    "    return random.randint(0, n_chambers-1)\n",
    "\n",
    "def spin_chamber(n_chambers):\n",
    "    return random.randint(0, n_chambers-1)\n",
    "\n",
    "def initialize_gun(n_chambers):\n",
    "    return insert_bullet(n_chambers), spin_chamber(n_chambers)\n",
    "\n",
    "def pull_trigger(bullet_chamber, shooting_chamber, n_chambers):\n",
    "    if shooting_chamber == bullet_chamber:\n",
    "        return shooting_chamber, True\n",
    "    else:\n",
    "        shooting_chamber = shooting_chamber + 1\n",
    "        if shooting_chamber >= n_chambers:\n",
    "            shooting_chamber -= n_chambers\n",
    "        return shooting_chamber, False\n",
    "\n",
    "def play_roulette(n_chambers):\n",
    "    bullet_chamber, shooting_chamber = initialize_gun(n_chambers)\n",
    "    n_trigger_pulls, are_you_dead = 0, False\n",
    "    while are_you_dead == False:\n",
    "        shooting_chamber, are_you_dead = pull_trigger(\n",
    "            bullet_chamber, shooting_chamber, n_chambers)\n",
    "        n_trigger_pulls += 1\n",
    "    return n_trigger_pulls\n",
    "\n",
    "n_games = 100000\n",
    "n_hits, n_hits_sq = 0, 0\n",
    "n_hits = np.zeros(n_games)\n",
    "for i in range(n_games):\n",
    "    shots = play_roulette(6)\n",
    "    n_hits[i] = shots\n",
    "print np.mean(n_hits)\n",
    "print np.std(n_hits)**2\n",
    "print np.mean(n_hits**2) - np.mean(n_hits)**2"
   ]
  }
 ],
 "metadata": {
  "kernelspec": {
   "display_name": "Python 2",
   "language": "python",
   "name": "python2"
  },
  "language_info": {
   "codemirror_mode": {
    "name": "ipython",
    "version": 2
   },
   "file_extension": ".py",
   "mimetype": "text/x-python",
   "name": "python",
   "nbconvert_exporter": "python",
   "pygments_lexer": "ipython2",
   "version": "2.7.11"
  }
 },
 "nbformat": 4,
 "nbformat_minor": 0
}
