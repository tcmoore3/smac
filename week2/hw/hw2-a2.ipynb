{
 "cells": [
  {
   "cell_type": "code",
   "execution_count": 1,
   "metadata": {
    "collapsed": true
   },
   "outputs": [],
   "source": [
    "import random\n",
    "from collections import OrderedDict"
   ]
  },
  {
   "cell_type": "code",
   "execution_count": 2,
   "metadata": {
    "collapsed": false
   },
   "outputs": [],
   "source": [
    "def markov(x0, sigma, delta, n_steps, reference_configurations, del_xy=0.1):\n",
    "    \"\"\"\n",
    "    Perform markov sampling of hard disks\n",
    "    \n",
    "    x0: the initial configuration\n",
    "    sigma: the radius of the disks\n",
    "    delta: the maximum step size in any direction\n",
    "    n_steps: the number of steps to run\n",
    "    \"\"\"\n",
    "    if x0 == None:\n",
    "        x0 = [[0.25, 0.25], [0.75, 0.25], [0.25, 0.75], [0.75, 0.75]]\n",
    "    sigma_sq = sigma ** 2\n",
    "    for steps in range(n_steps):\n",
    "        a = random.choice(x0)\n",
    "        b = [a[0] + random.uniform(-delta, delta), a[1] + random.uniform(-delta, delta)]\n",
    "        min_dist = min((b[0] - c[0]) ** 2 + (b[1] - c[1]) ** 2 for c in x0 if c != a)\n",
    "        box_cond = min(b[0], b[1]) < sigma or max(b[0], b[1]) > 1.0 - sigma\n",
    "        if not (box_cond or min_dist < 4.0 * sigma ** 2): \n",
    "            a[:] = b\n",
    "        # now check for overlap; this adds to the counter\n",
    "        reference_configurations = check_overlap(x0, reference_configurations, del_xy)\n",
    "    return x0, reference_configurations\n",
    "            \n",
    "def check_overlap(x_vec, reference_configurations, del_xy):\n",
    "    for reference_configuration, d in reference_configurations.iteritems():\n",
    "        condition_hit = True\n",
    "        for b in d['configuration']:\n",
    "            condition_b = min(max(abs(a[0] - b[0]), abs(a[1] - b[1])) for a in x_vec) < del_xy\n",
    "            condition_hit *= condition_b\n",
    "        d['hits'] += condition_hit\n",
    "    return reference_configurations\n",
    "        \n",
    "def initialize_reference_configurations():\n",
    "    conf_a = ((0.30, 0.30), (0.30, 0.70), (0.70, 0.30), (0.70,0.70))\n",
    "    conf_b = ((0.20, 0.20), (0.20, 0.80), (0.75, 0.25), (0.75,0.75))\n",
    "    conf_c = ((0.30, 0.20), (0.30, 0.80), (0.70, 0.20), (0.70,0.70))\n",
    "    counter = OrderedDict([(letter, {'configuration': conf, 'hits': 0}) for letter, conf in zip(\n",
    "        ['a', 'b', 'c'], [conf_a, conf_b, conf_c])])\n",
    "    return counter"
   ]
  },
  {
   "cell_type": "code",
   "execution_count": 166,
   "metadata": {
    "collapsed": false
   },
   "outputs": [
    {
     "name": "stdout",
     "output_type": "stream",
     "text": [
      "10000 steps\n",
      "--------------\n",
      "154 86 90\n",
      "174 91 129\n",
      "234 85 145\n",
      "187.333333333 87.3333333333 121.333333333\n",
      "\n",
      "100000 steps\n",
      "--------------\n",
      "1793 909 973\n",
      "1978 725 922\n",
      "1903 893 877\n",
      "1891.33333333 842.333333333 924.0\n",
      "\n",
      "1000000 steps\n",
      "--------------\n",
      "19301 9346 9451\n",
      "19675 8979 10069\n",
      "19157 8627 9986\n",
      "19377.6666667 8984.0 9835.33333333\n",
      "\n",
      "10000000 steps\n",
      "--------------\n",
      "191631 91831 99471\n",
      "192816 95132 103149\n",
      "190271 93511 102975\n",
      "191572.666667 93491.3333333 101865.0\n",
      "\n"
     ]
    }
   ],
   "source": [
    "for n_steps in [10000, 100000, 1000000]:#, 10000000]:\n",
    "    print n_steps, 'steps'\n",
    "    print '--------------'\n",
    "    total_hits = {'a': 0, 'b': 0, 'c': 0}\n",
    "    for i in range(3):\n",
    "        reference_configurations = initialize_reference_configurations()\n",
    "        x, total = markov(None, 0.15, 0.1, n_steps,\n",
    "                        reference_configurations, del_xy=0.1)\n",
    "        for c, d in reference_configurations.iteritems():\n",
    "            total_hits[c] += d['hits']\n",
    "        a = reference_configurations\n",
    "        print a['a']['hits'], a['b']['hits'], a['c']['hits']\n",
    "    print total_hits['a']/3.0, total_hits['b']/3.0, total_hits['c']/3.0\n",
    "    print ''"
   ]
  }
 ],
 "metadata": {
  "kernelspec": {
   "display_name": "Python 2",
   "language": "python",
   "name": "python2"
  },
  "language_info": {
   "codemirror_mode": {
    "name": "ipython",
    "version": 2
   },
   "file_extension": ".py",
   "mimetype": "text/x-python",
   "name": "python",
   "nbconvert_exporter": "python",
   "pygments_lexer": "ipython2",
   "version": "2.7.11"
  }
 },
 "nbformat": 4,
 "nbformat_minor": 0
}
