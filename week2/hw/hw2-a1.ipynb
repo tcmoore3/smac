{
 "cells": [
  {
   "cell_type": "code",
   "execution_count": 2,
   "metadata": {
    "collapsed": true
   },
   "outputs": [],
   "source": [
    "import random, math\n",
    "import numpy as np\n",
    "from collections import OrderedDict"
   ]
  },
  {
   "cell_type": "code",
   "execution_count": 6,
   "metadata": {
    "collapsed": false,
    "scrolled": true
   },
   "outputs": [
    {
     "name": "stdout",
     "output_type": "stream",
     "text": [
      "a: [177, 208, 169] -> average = 184.666666667\n",
      "b: [83, 97, 95] -> average = 91.6666666667\n",
      "c: [101, 86, 100] -> average = 95.6666666667\n",
      "a: [1853, 1942, 1938] -> average = 1911.0\n",
      "b: [909, 920, 918] -> average = 915.666666667\n",
      "c: [932, 1043, 1003] -> average = 992.666666667\n",
      "a: [19010, 18895, 18853] -> average = 18919.3333333\n",
      "b: [9404, 9321, 9099] -> average = 9274.66666667\n",
      "c: [10079, 9875, 9953] -> average = 9969.0\n"
     ]
    }
   ],
   "source": [
    "def direct_disks_box(N, sigma):\n",
    "    condition = False  # what is this condition?\n",
    "    while condition == False:\n",
    "        L = [(random.uniform(sigma, 1.0 - sigma), random.uniform(sigma, 1.0 - sigma))]\n",
    "        for k in range(1, N):\n",
    "            a = (random.uniform(sigma, 1.0 - sigma), random.uniform(sigma, 1.0 - sigma))\n",
    "            min_dist = min(math.sqrt((a[0] - b[0]) ** 2 + (a[1] - b[1]) ** 2) for b in L)\n",
    "            if min_dist < 2.0 * sigma:\n",
    "                condition = False\n",
    "                break\n",
    "            else:\n",
    "                L.append(a)\n",
    "                condition = True\n",
    "    return L\n",
    "\n",
    "\n",
    "sigma = 0.15\n",
    "del_xy = 0.1\n",
    "n_runs = 1000\n",
    "conf_a = ((0.30, 0.30), (0.30, 0.70), (0.70, 0.30), (0.70,0.70))\n",
    "conf_b = ((0.20, 0.20), (0.20, 0.80), (0.75, 0.25), (0.75,0.75))\n",
    "conf_c = ((0.30, 0.20), (0.30, 0.80), (0.70, 0.20), (0.70,0.70))\n",
    "configurations = [conf_a, conf_b, conf_c]\n",
    "confs = OrderedDict([(conf_a, 'a'), (conf_b, 'b'), (conf_c, 'c')])\n",
    "for n_runs in [1e4, 1e5, 1e6]:\n",
    "    n_hits_each = OrderedDict([('a', []), ('b', []), ('c', [])])\n",
    "    for trial in range(3):\n",
    "        hits = {conf_a: 0, conf_b: 0, conf_c: 0}\n",
    "        for run in range(int(n_runs)):\n",
    "            x_vec = direct_disks_box(4, sigma)  # this gives some valid configuration\n",
    "            for conf in configurations:  # loop over the 3 configurations above\n",
    "                condition_hit = True  # initialize hit to true\n",
    "                for b in conf:  # loop over particles in 1 of the 3 configurations\n",
    "                    # max() statement finds the largest separations b/t disks in x and y\n",
    "                    # min() statement finds the smallest of the largest separatiosn b/t disks in x and y\n",
    "                    condition_b = min(max(abs(a[0] - b[0]), abs(a[1] - b[1])) for a in x_vec) < del_xy\n",
    "                    # if the min() distance is less than some del_xy, add a hit to the conformation\n",
    "                    condition_hit *= condition_b\n",
    "                if condition_hit:\n",
    "                    hits[conf] += 1\n",
    "\n",
    "        #print n_runs, 'runs, trial', trial\n",
    "        #print '------'\n",
    "        for conf in configurations:\n",
    "            #print confs[conf], '-->', hits[conf]\n",
    "            n_hits_each[confs[conf]].append(hits[conf])\n",
    "    for letter, llist in n_hits_each.iteritems():\n",
    "        print '%s:' % letter, llist, '-> average =', np.mean(llist)"
   ]
  }
 ],
 "metadata": {
  "kernelspec": {
   "display_name": "Python 2",
   "language": "python",
   "name": "python2"
  },
  "language_info": {
   "codemirror_mode": {
    "name": "ipython",
    "version": 2
   },
   "file_extension": ".py",
   "mimetype": "text/x-python",
   "name": "python",
   "nbconvert_exporter": "python",
   "pygments_lexer": "ipython2",
   "version": "2.7.11"
  }
 },
 "nbformat": 4,
 "nbformat_minor": 0
}
