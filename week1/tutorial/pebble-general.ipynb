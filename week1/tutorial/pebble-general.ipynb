{
 "cells": [
  {
   "cell_type": "code",
   "execution_count": 1,
   "metadata": {
    "collapsed": true
   },
   "outputs": [],
   "source": [
    "%matplotlib inline\n",
    "\n",
    "import numpy as np\n",
    "import matplotlib.pyplot as plt"
   ]
  },
  {
   "cell_type": "markdown",
   "metadata": {},
   "source": [
    "First, let's define some functions. The first 4 will decide if we are on an edge, and the last one will create the list of neighbors."
   ]
  },
  {
   "cell_type": "code",
   "execution_count": 2,
   "metadata": {
    "collapsed": false
   },
   "outputs": [],
   "source": [
    "def on_bottom_edge(i, rows, columns):\n",
    "    if float(i) / columns < 1:\n",
    "        return True\n",
    "    return False\n",
    "\n",
    "def on_left_edge(i, rows, columns):\n",
    "    if float(i) % columns == 0:\n",
    "        return True\n",
    "    return False\n",
    "\n",
    "def on_right_edge(i, rows, columns):\n",
    "    if float(i) % columns == columns - 1:\n",
    "        return True\n",
    "    return False\n",
    "\n",
    "def on_top_edge(i, rows, columns):\n",
    "    if float(i) / columns >= rows - 1:\n",
    "        return True\n",
    "    return False\n",
    "    \n",
    "def build_neighbor_list(rows, columns):\n",
    "    neighbors = []\n",
    "    n_squares = rows * columns\n",
    "    for square in range(n_squares):\n",
    "        if on_bottom_edge(square, rows, columns):\n",
    "            bottom = square\n",
    "        else:\n",
    "            bottom = square - columns\n",
    "        if on_right_edge(square, rows, columns):\n",
    "            right = square\n",
    "        else:\n",
    "            right = square + 1\n",
    "        if on_left_edge(square, rows, columns):\n",
    "            left = square\n",
    "        else:\n",
    "            left = square - 1\n",
    "        if on_top_edge(square, rows, columns):\n",
    "            top = square\n",
    "        else:\n",
    "            top = square + columns\n",
    "        neighbors.append([right, top, left, bottom])\n",
    "    return neighbors"
   ]
  },
  {
   "cell_type": "markdown",
   "metadata": {},
   "source": [
    "Now, let's define a function to initialize and fill in the transition matrix based on size of the game we want to play."
   ]
  },
  {
   "cell_type": "code",
   "execution_count": 3,
   "metadata": {
    "collapsed": false
   },
   "outputs": [],
   "source": [
    "def build_transition_matrix(rows, columns):\n",
    "    neighbors = build_neighbor_list(rows, columns)\n",
    "    transition_matrix = np.zeros((rows * columns, rows * columns))\n",
    "    for i in range(rows * columns):\n",
    "        for neighbor in range(4):  # we always have 4 neighbors\n",
    "            transition_matrix[neighbors[i][neighbor], i] += 0.25\n",
    "    return transition_matrix"
   ]
  },
  {
   "cell_type": "markdown",
   "metadata": {},
   "source": [
    "\n",
    "\n",
    "\n",
    "Now find the equilibrium probability vector, which is the eigenvector of the transfer matrix with eigenvalue 1.\n",
    "\n",
    "Use `np.where` to find where the eigenvalue is (very close to) 1, and then the eigenvector associated with that eigenvalue is just `eigenvectors[:, eigenvalue_1]`\n",
    "\n",
    "Note that we have to normalize the equilibrium probability vector.\n",
    "\n",
    "Let's also use what we know about the different eigenvalues to calculate the correlation time."
   ]
  },
  {
   "cell_type": "code",
   "execution_count": 4,
   "metadata": {
    "collapsed": false
   },
   "outputs": [
    {
     "name": "stdout",
     "output_type": "stream",
     "text": [
      "[ 0.0625  0.0625  0.0625  0.0625  0.0625  0.0625  0.0625  0.0625  0.0625\n",
      "  0.0625  0.0625  0.0625  0.0625  0.0625  0.0625  0.0625]\n",
      "Correlation time = 6.32\n"
     ]
    }
   ],
   "source": [
    "rows, columns = 4, 4\n",
    "transition_matrix = build_transition_matrix(rows, columns)\n",
    "eigenvalues, eigenvectors = np.linalg.eig(transition_matrix)\n",
    "eigenvalues, eigenvectors = eigenvalues.real, eigenvectors.real\n",
    "eigenvalue_1 = np.where(np.abs(np.abs(eigenvalues) - 1.0) < 1e-8)[0][0]\n",
    "\n",
    "print eigenvectors[:, eigenvalue_1] / sum(eigenvectors[:, eigenvalue_1])\n",
    "\n",
    "t_corr = -1/np.log(np.unique(eigenvalues)[::-1][1])\n",
    "print 'Correlation time = {:.2f}'.format(t_corr)"
   ]
  },
  {
   "cell_type": "markdown",
   "metadata": {},
   "source": [
    "Now, let's plot and the probability of the pebble being in each square as a function of time. On the same plot, let's plot the expected equilibrium value and vertical lines on integer multiples of the correlation time."
   ]
  },
  {
   "cell_type": "code",
   "execution_count": 50,
   "metadata": {
    "collapsed": false,
    "scrolled": true
   },
   "outputs": [
    {
     "data": {
      "image/png": "[encoded data removed]",
      "text/plain": [
       "<matplotlib.figure.Figure at 0x112412ad0>"
      ]
     },
     "metadata": {},
     "output_type": "display_data"
    }
   ],
   "source": [
    "# empty list for positions through time\n",
    "positions_t = []\n",
    "\n",
    "# positions at time 0 (start at top right square)\n",
    "position = np.zeros(rows * columns)\n",
    "position[-1] = 1\n",
    "\n",
    "# now loop through time and find the probability vector at time t\n",
    "for step in range(int(np.ceil(6*t_corr))):\n",
    "    # print position\n",
    "    positions_t.append(position)\n",
    "    position = np.dot(transition_matrix, position)\n",
    "positions_t = np.asarray(positions_t)\n",
    "fig, axs = plt.subplots(nrows=rows, ncols=columns, sharex=True, sharey=True)\n",
    "fig.set_size_inches(3*rows, 3*columns)\n",
    "for ax, p_square_t in zip(axs.flatten(), positions_t.T):\n",
    "    ax.plot(p_square_t[:int(np.ceil(6*t_corr))], 'k')\n",
    "    ax.axhline(1.0/(rows*columns), c='r', ls='--')\n",
    "    for i in range(5):\n",
    "        ax.axvline(t_corr * (i+1), c='k')"
   ]
  }
 ],
 "metadata": {
  "kernelspec": {
   "display_name": "Python 2",
   "language": "python",
   "name": "python2"
  },
  "language_info": {
   "codemirror_mode": {
    "name": "ipython",
    "version": 2
   },
   "file_extension": ".py",
   "mimetype": "text/x-python",
   "name": "python",
   "nbconvert_exporter": "python",
   "pygments_lexer": "ipython2",
   "version": "2.7.11"
  }
 },
 "nbformat": 4,
 "nbformat_minor": 0
}
